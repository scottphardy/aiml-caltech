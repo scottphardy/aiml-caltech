{
 "cells": [
  {
   "metadata": {},
   "cell_type": "markdown",
   "source": "# Personal Expense Tracker"
  },
  {
   "metadata": {},
   "cell_type": "raw",
   "source": [
    "Description:\n",
    "A command-line application that helps users track and manage their personal expenses.\n",
    "The application allows users to add expenses, view their spending history, monitor their\n",
    "budget, and save all transactions to a CSV file for persistent storage.\n",
    "\n",
    "Features:\n",
    "1. Add Expenses\n",
    "   - Record date, category, amount, and description for each expense\n",
    "   - Input validation for numerical amounts\n",
    "   - Flexible categorization of expenses\n",
    "\n",
    "2. View Expenses\n",
    "   - Display all recorded expenses in a formatted table\n",
    "   - Show transaction history with details\n",
    "\n",
    "3. Budget Tracking\n",
    "   - Set and monitor monthly budgets\n",
    "   - Calculate remaining budget\n",
    "   - Alert users when they exceed their budget\n",
    "   - Display budget statistics\n",
    "\n",
    "4. Data Persistence\n",
    "   - Save all expenses to a CSV file\n",
    "   - Load previous expenses when program starts\n",
    "   - Automatic data recovery\n",
    "\n",
    "Technical Implementation:\n",
    "- Uses CSV file format for data storage\n",
    "- Implements error handling for robust operation\n",
    "- Maintains data integrity through proper file operations\n",
    "- Follows modular design principles\n",
    "\n",
    "Usage:\n",
    "1. Run the program\n",
    "2. Select options from the interactive menu\n",
    "3. Follow prompts to input or view data\n",
    "4. Save changes before exiting\n",
    "\n",
    "Data Structure:\n",
    "- Expenses stored as dictionaries with fields:\n",
    "  * date: transaction date\n",
    "  * category: expense category\n",
    "  * amount: transaction amount (stored as float)\n",
    "  * description: additional details\n",
    "\n",
    "Requirements:\n",
    "- Python 3.x\n",
    "- CSV module (built-in)\n",
    "- OS module (built-in)\n",
    "\n",
    "File Structure:\n",
    "- expenses.csv: Data storage file\n",
    "- expense_tracker.py: Main program file\n",
    "\n",
    "Author: Scott Hardy\n",
    "Version: 1.0\n"
   ]
  },
  {
   "metadata": {},
   "cell_type": "markdown",
   "source": "### Import any needed libraries"
  },
  {
   "metadata": {
    "ExecuteTime": {
     "end_time": "2024-11-21T02:13:22.621200Z",
     "start_time": "2024-11-21T02:13:22.616917Z"
    }
   },
   "cell_type": "code",
   "source": "import csv, os\n",
   "outputs": [],
   "execution_count": 1
  },
  {
   "metadata": {},
   "cell_type": "markdown",
   "source": "### Variables"
  },
  {
   "metadata": {
    "ExecuteTime": {
     "end_time": "2024-11-21T02:13:22.635079Z",
     "start_time": "2024-11-21T02:13:22.630826Z"
    }
   },
   "cell_type": "code",
   "source": [
    "all_expenses = []\n",
    "expenses_csv = \"expenses.csv\""
   ],
   "outputs": [],
   "execution_count": 2
  },
  {
   "metadata": {},
   "cell_type": "markdown",
   "source": "### Add Expense Function"
  },
  {
   "metadata": {
    "ExecuteTime": {
     "end_time": "2024-11-21T02:13:22.644722Z",
     "start_time": "2024-11-21T02:13:22.640154Z"
    }
   },
   "cell_type": "code",
   "source": [
    "def add_expense():\n",
    "\n",
    "    expense = {}\n",
    "    exp_date = input(\"What was the date of the expense? Enter date in format YYYY-MM-DD\")\n",
    "    expense[\"date\"] = exp_date\n",
    "    exp_category = input(\"Please provide the category of the expense. i.g.: Fuel, Travel, Meal, etc.:\")\n",
    "    expense[\"category\"] = exp_category\n",
    "    exp_amount = float(input(\"Please provide the amount of the expense:\"))\n",
    "    expense[\"amount\"] = exp_amount\n",
    "    exp_desc = input(\"Please provide a brief description of the expense:\")\n",
    "    expense[\"description\"] = exp_desc\n",
    "    all_expenses.append(expense)"
   ],
   "outputs": [],
   "execution_count": 3
  },
  {
   "metadata": {},
   "cell_type": "markdown",
   "source": "### View Expenses Function"
  },
  {
   "metadata": {
    "ExecuteTime": {
     "end_time": "2024-11-21T02:13:22.771247Z",
     "start_time": "2024-11-21T02:13:22.767597Z"
    }
   },
   "cell_type": "code",
   "source": [
    "def view_expenses():\n",
    "\n",
    "    for x in all_expenses:\n",
    "        print(\"-----\")\n",
    "        if x[\"date\"] != '':\n",
    "            print(f\"Expense Date: {x['date']}\")\n",
    "        else:\n",
    "            print(\"Expense date is missing\")\n",
    "        if x[\"category\"] != '':\n",
    "            print(f\"Expense Category: {x['category']}\")\n",
    "        else:\n",
    "            print(\"Expense category is missing\")\n",
    "        if x[\"amount\"] != '':\n",
    "            print(f\"Expense Amount: {x['amount']}\")\n",
    "        else:\n",
    "            print(\"Expense amount is missing\")\n",
    "        if x[\"description\"] != '':\n",
    "            print(f\"Expense Description: {x['description']}\")\n",
    "        else:\n",
    "            print(\"Expense description is missing\")"
   ],
   "outputs": [],
   "execution_count": 4
  },
  {
   "metadata": {},
   "cell_type": "markdown",
   "source": "### Track Budget Function"
  },
  {
   "metadata": {
    "ExecuteTime": {
     "end_time": "2024-11-21T02:13:22.782656Z",
     "start_time": "2024-11-21T02:13:22.778143Z"
    }
   },
   "cell_type": "code",
   "source": [
    "def track_budget():\n",
    "\n",
    "    try:\n",
    "        budget = float(input(\"Please enter a budget amount for the month:\"))\n",
    "        total_expenses = 0\n",
    "\n",
    "        for x in all_expenses:\n",
    "            total_expenses += float(x[\"amount\"])\n",
    "\n",
    "        if budget < 0:\n",
    "            print(\"Budget cannot be negative.\")\n",
    "        elif budget <= total_expenses:\n",
    "            print(f\"You have exceeded your budget by {round(total_expenses - budget, 2)}\")\n",
    "        elif budget == total_expenses:\n",
    "            print(\"You mave met your budget.\")\n",
    "        else:\n",
    "            print(f\"You have ${round(budget - total_expenses,2 )} left for the month\")\n",
    "\n",
    "    except ValueError:\n",
    "        print(\"Please enter a valid number\")"
   ],
   "outputs": [],
   "execution_count": 5
  },
  {
   "metadata": {},
   "cell_type": "markdown",
   "source": "### Save Expenses Function"
  },
  {
   "metadata": {
    "ExecuteTime": {
     "end_time": "2024-11-21T02:13:22.792758Z",
     "start_time": "2024-11-21T02:13:22.788607Z"
    }
   },
   "cell_type": "code",
   "source": [
    "def save_expenses():\n",
    "\n",
    "    field_names = [\"date\", \"category\", \"amount\", \"description\"]\n",
    "\n",
    "    if not os.path.exists(expenses_csv):\n",
    "\n",
    "        with open(expenses_csv, \"x\") as csvfile:\n",
    "            writer = csv.DictWriter(csvfile, fieldnames=field_names)\n",
    "            writer.writeheader()\n",
    "            writer.writerows(all_expenses)\n",
    "\n",
    "    else:\n",
    "\n",
    "        with open(expenses_csv, \"w\") as csvfile:\n",
    "            writer = csv.DictWriter(csvfile, fieldnames=field_names)\n",
    "            writer.writeheader()\n",
    "            writer.writerows(all_expenses)\n"
   ],
   "outputs": [],
   "execution_count": 6
  },
  {
   "metadata": {},
   "cell_type": "markdown",
   "source": "### Load Expenses Function"
  },
  {
   "metadata": {
    "ExecuteTime": {
     "end_time": "2024-11-21T02:13:22.803139Z",
     "start_time": "2024-11-21T02:13:22.799290Z"
    }
   },
   "cell_type": "code",
   "source": [
    "def load_expenses():\n",
    "\n",
    "    if not os.path.exists(expenses_csv):\n",
    "\n",
    "        field_names = [\"date\", \"category\", \"amount\", \"description\"]\n",
    "\n",
    "        with open(expenses_csv, \"x\") as csvfile:\n",
    "            writer = csv.DictWriter(csvfile, fieldnames=field_names)\n",
    "            writer.writeheader()\n",
    "            writer.writerows(all_expenses)\n",
    "\n",
    "    else:\n",
    "\n",
    "        with open(\"expenses.csv\", \"r\") as csvfile:\n",
    "            reader = csv.DictReader(csvfile)\n",
    "            for lines in reader:\n",
    "                all_expenses.append(lines)"
   ],
   "outputs": [],
   "execution_count": 7
  },
  {
   "metadata": {},
   "cell_type": "markdown",
   "source": "### Interactive Menu Function"
  },
  {
   "metadata": {
    "ExecuteTime": {
     "end_time": "2024-11-21T02:13:22.813770Z",
     "start_time": "2024-11-21T02:13:22.809027Z"
    }
   },
   "cell_type": "code",
   "source": [
    "def menu():\n",
    "\n",
    "    load_expenses()\n",
    "\n",
    "    run_program = True\n",
    "\n",
    "    while run_program:\n",
    "\n",
    "        print(\"\\nExpense Tracker Menu:\")\n",
    "        print(\"\\nExpense Tracker Menu:\")\n",
    "        print(\"1. Add Expense\")\n",
    "        print(\"2. View Expenses\")\n",
    "        print(\"3. Track Budget\")\n",
    "        print(\"4. Save Expenses\")\n",
    "        print(\"5. Exit\")\n",
    "\n",
    "        try:\n",
    "            choice = int(input(\"Please enter one of the options below:\"))\n",
    "\n",
    "            if choice == 1:\n",
    "                add_expense()\n",
    "            elif choice == 2:\n",
    "                view_expenses()\n",
    "            elif choice == 3:\n",
    "                track_budget()\n",
    "            elif choice == 4:\n",
    "                save_expenses()\n",
    "            elif choice == 5:\n",
    "                print(\"Exiting program\")\n",
    "                run_program = False\n",
    "            else:\n",
    "                print(\"Invalid choice. Please enter a number between 1 and 5.\")\n",
    "        except ValueError:\n",
    "            print(\"Please enter a valid number.\")\n"
   ],
   "outputs": [],
   "execution_count": 8
  },
  {
   "metadata": {
    "ExecuteTime": {
     "end_time": "2024-11-21T02:13:29.689746Z",
     "start_time": "2024-11-21T02:13:22.822753Z"
    }
   },
   "cell_type": "code",
   "source": "menu()",
   "outputs": [
    {
     "name": "stdout",
     "output_type": "stream",
     "text": [
      "\n",
      "Expense Tracker Menu:\n",
      "\n",
      "Expense Tracker Menu:\n",
      "1. Add Expense\n",
      "2. View Expenses\n",
      "3. Track Budget\n",
      "4. Save Expenses\n",
      "5. Exit\n"
     ]
    },
    {
     "ename": "KeyboardInterrupt",
     "evalue": "Interrupted by user",
     "output_type": "error",
     "traceback": [
      "\u001B[1;31m---------------------------------------------------------------------------\u001B[0m",
      "\u001B[1;31mKeyboardInterrupt\u001B[0m                         Traceback (most recent call last)",
      "Cell \u001B[1;32mIn[9], line 1\u001B[0m\n\u001B[1;32m----> 1\u001B[0m \u001B[43mmenu\u001B[49m\u001B[43m(\u001B[49m\u001B[43m)\u001B[49m\n",
      "Cell \u001B[1;32mIn[8], line 18\u001B[0m, in \u001B[0;36mmenu\u001B[1;34m()\u001B[0m\n\u001B[0;32m     15\u001B[0m \u001B[38;5;28mprint\u001B[39m(\u001B[38;5;124m\"\u001B[39m\u001B[38;5;124m5. Exit\u001B[39m\u001B[38;5;124m\"\u001B[39m)\n\u001B[0;32m     17\u001B[0m \u001B[38;5;28;01mtry\u001B[39;00m:\n\u001B[1;32m---> 18\u001B[0m     choice \u001B[38;5;241m=\u001B[39m \u001B[38;5;28mint\u001B[39m(\u001B[38;5;28;43minput\u001B[39;49m\u001B[43m(\u001B[49m\u001B[38;5;124;43m\"\u001B[39;49m\u001B[38;5;124;43mPlease enter one of the options below:\u001B[39;49m\u001B[38;5;124;43m\"\u001B[39;49m\u001B[43m)\u001B[49m)\n\u001B[0;32m     20\u001B[0m     \u001B[38;5;28;01mif\u001B[39;00m choice \u001B[38;5;241m==\u001B[39m \u001B[38;5;241m1\u001B[39m:\n\u001B[0;32m     21\u001B[0m         add_expense()\n",
      "File \u001B[1;32m~\\repos\\github\\aiml-caltech\\PersonalExpenseTracker\\.venv\\Lib\\site-packages\\ipykernel\\kernelbase.py:1282\u001B[0m, in \u001B[0;36mKernel.raw_input\u001B[1;34m(self, prompt)\u001B[0m\n\u001B[0;32m   1280\u001B[0m     msg \u001B[38;5;241m=\u001B[39m \u001B[38;5;124m\"\u001B[39m\u001B[38;5;124mraw_input was called, but this frontend does not support input requests.\u001B[39m\u001B[38;5;124m\"\u001B[39m\n\u001B[0;32m   1281\u001B[0m     \u001B[38;5;28;01mraise\u001B[39;00m StdinNotImplementedError(msg)\n\u001B[1;32m-> 1282\u001B[0m \u001B[38;5;28;01mreturn\u001B[39;00m \u001B[38;5;28;43mself\u001B[39;49m\u001B[38;5;241;43m.\u001B[39;49m\u001B[43m_input_request\u001B[49m\u001B[43m(\u001B[49m\n\u001B[0;32m   1283\u001B[0m \u001B[43m    \u001B[49m\u001B[38;5;28;43mstr\u001B[39;49m\u001B[43m(\u001B[49m\u001B[43mprompt\u001B[49m\u001B[43m)\u001B[49m\u001B[43m,\u001B[49m\n\u001B[0;32m   1284\u001B[0m \u001B[43m    \u001B[49m\u001B[38;5;28;43mself\u001B[39;49m\u001B[38;5;241;43m.\u001B[39;49m\u001B[43m_parent_ident\u001B[49m\u001B[43m[\u001B[49m\u001B[38;5;124;43m\"\u001B[39;49m\u001B[38;5;124;43mshell\u001B[39;49m\u001B[38;5;124;43m\"\u001B[39;49m\u001B[43m]\u001B[49m\u001B[43m,\u001B[49m\n\u001B[0;32m   1285\u001B[0m \u001B[43m    \u001B[49m\u001B[38;5;28;43mself\u001B[39;49m\u001B[38;5;241;43m.\u001B[39;49m\u001B[43mget_parent\u001B[49m\u001B[43m(\u001B[49m\u001B[38;5;124;43m\"\u001B[39;49m\u001B[38;5;124;43mshell\u001B[39;49m\u001B[38;5;124;43m\"\u001B[39;49m\u001B[43m)\u001B[49m\u001B[43m,\u001B[49m\n\u001B[0;32m   1286\u001B[0m \u001B[43m    \u001B[49m\u001B[43mpassword\u001B[49m\u001B[38;5;241;43m=\u001B[39;49m\u001B[38;5;28;43;01mFalse\u001B[39;49;00m\u001B[43m,\u001B[49m\n\u001B[0;32m   1287\u001B[0m \u001B[43m\u001B[49m\u001B[43m)\u001B[49m\n",
      "File \u001B[1;32m~\\repos\\github\\aiml-caltech\\PersonalExpenseTracker\\.venv\\Lib\\site-packages\\ipykernel\\kernelbase.py:1325\u001B[0m, in \u001B[0;36mKernel._input_request\u001B[1;34m(self, prompt, ident, parent, password)\u001B[0m\n\u001B[0;32m   1322\u001B[0m \u001B[38;5;28;01mexcept\u001B[39;00m \u001B[38;5;167;01mKeyboardInterrupt\u001B[39;00m:\n\u001B[0;32m   1323\u001B[0m     \u001B[38;5;66;03m# re-raise KeyboardInterrupt, to truncate traceback\u001B[39;00m\n\u001B[0;32m   1324\u001B[0m     msg \u001B[38;5;241m=\u001B[39m \u001B[38;5;124m\"\u001B[39m\u001B[38;5;124mInterrupted by user\u001B[39m\u001B[38;5;124m\"\u001B[39m\n\u001B[1;32m-> 1325\u001B[0m     \u001B[38;5;28;01mraise\u001B[39;00m \u001B[38;5;167;01mKeyboardInterrupt\u001B[39;00m(msg) \u001B[38;5;28;01mfrom\u001B[39;00m \u001B[38;5;28;01mNone\u001B[39;00m\n\u001B[0;32m   1326\u001B[0m \u001B[38;5;28;01mexcept\u001B[39;00m \u001B[38;5;167;01mException\u001B[39;00m:\n\u001B[0;32m   1327\u001B[0m     \u001B[38;5;28mself\u001B[39m\u001B[38;5;241m.\u001B[39mlog\u001B[38;5;241m.\u001B[39mwarning(\u001B[38;5;124m\"\u001B[39m\u001B[38;5;124mInvalid Message:\u001B[39m\u001B[38;5;124m\"\u001B[39m, exc_info\u001B[38;5;241m=\u001B[39m\u001B[38;5;28;01mTrue\u001B[39;00m)\n",
      "\u001B[1;31mKeyboardInterrupt\u001B[0m: Interrupted by user"
     ]
    }
   ],
   "execution_count": 9
  }
 ],
 "metadata": {
  "kernelspec": {
   "display_name": ".venv",
   "language": "python",
   "name": "python3"
  },
  "language_info": {
   "name": "python",
   "version": "3.12.7"
  }
 },
 "nbformat": 4,
 "nbformat_minor": 2
}
