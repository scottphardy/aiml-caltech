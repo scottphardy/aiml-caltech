{
 "cells": [
  {
   "metadata": {},
   "cell_type": "markdown",
   "source": "# Personal Expense Tracker"
  },
  {
   "metadata": {},
   "cell_type": "raw",
   "source": [
    "Description:\n",
    "A command-line application that helps users track and manage their personal expenses.\n",
    "The application allows users to add expenses, view their spending history, monitor their\n",
    "budget, and save all transactions to a CSV file for persistent storage.\n",
    "\n",
    "Features:\n",
    "1. Add Expenses\n",
    "   - Record date, category, amount, and description for each expense\n",
    "   - Input validation for numerical amounts\n",
    "   - Flexible categorization of expenses\n",
    "\n",
    "2. View Expenses\n",
    "   - Display all recorded expenses in a formatted table\n",
    "   - Show transaction history with details\n",
    "\n",
    "3. Budget Tracking\n",
    "   - Set and monitor monthly budgets\n",
    "   - Calculate remaining budget\n",
    "   - Alert users when they exceed their budget\n",
    "   - Display budget statistics\n",
    "\n",
    "4. Data Persistence\n",
    "   - Save all expenses to a CSV file\n",
    "   - Load previous expenses when program starts\n",
    "   - Automatic data recovery\n",
    "\n",
    "Technical Implementation:\n",
    "- Uses CSV file format for data storage\n",
    "- Implements error handling for robust operation\n",
    "- Maintains data integrity through proper file operations\n",
    "- Follows modular design principles\n",
    "\n",
    "Usage:\n",
    "1. Run the program\n",
    "2. Select options from the interactive menu\n",
    "3. Follow prompts to input or view data\n",
    "4. Save changes before exiting\n",
    "\n",
    "Data Structure:\n",
    "- Expenses stored as dictionaries with fields:\n",
    "  * date: transaction date\n",
    "  * category: expense category\n",
    "  * amount: transaction amount (stored as float)\n",
    "  * description: additional details\n",
    "\n",
    "Requirements:\n",
    "- Python 3.x\n",
    "- CSV module (built-in)\n",
    "- OS module (built-in)\n",
    "\n",
    "File Structure:\n",
    "- expenses.csv: Data storage file\n",
    "- expense_tracker.py: Main program file\n",
    "\n",
    "Author: Scott Hardy\n",
    "Version: 1.0\n"
   ]
  },
  {
   "metadata": {},
   "cell_type": "markdown",
   "source": "### Import any needed libraries"
  },
  {
   "metadata": {
    "ExecuteTime": {
     "end_time": "2024-11-20T19:16:20.060495Z",
     "start_time": "2024-11-20T19:16:20.056507Z"
    }
   },
   "cell_type": "code",
   "source": "import csv, os\n",
   "outputs": [],
   "execution_count": 1
  },
  {
   "metadata": {},
   "cell_type": "markdown",
   "source": "### Variables"
  },
  {
   "metadata": {
    "ExecuteTime": {
     "end_time": "2024-11-20T19:16:20.070303Z",
     "start_time": "2024-11-20T19:16:20.063500Z"
    }
   },
   "cell_type": "code",
   "source": [
    "all_expenses = []\n",
    "expenses_csv = \"expenses.csv\""
   ],
   "outputs": [],
   "execution_count": 2
  },
  {
   "metadata": {},
   "cell_type": "markdown",
   "source": "### Add Expense Function"
  },
  {
   "metadata": {
    "ExecuteTime": {
     "end_time": "2024-11-20T19:16:20.190914Z",
     "start_time": "2024-11-20T19:16:20.187292Z"
    }
   },
   "cell_type": "code",
   "source": [
    "def add_expense():\n",
    "\n",
    "    expense = {}\n",
    "    exp_date = input(\"What was the date of the expense? Enter date in format YYYY-MM-DD\")\n",
    "    expense[\"date\"] = exp_date\n",
    "    exp_category = input(\"Please provide the category of the expense. i.g.: Fuel, Travel, Meal, etc.:\")\n",
    "    expense[\"category\"] = exp_category\n",
    "    exp_amount = float(input(\"Please provide the amount of the expense:\"))\n",
    "    expense[\"amount\"] = exp_amount\n",
    "    exp_desc = input(\"Please provide a brief description of the expense:\")\n",
    "    expense[\"description\"] = exp_desc\n",
    "    all_expenses.append(expense)"
   ],
   "outputs": [],
   "execution_count": 3
  },
  {
   "metadata": {},
   "cell_type": "markdown",
   "source": "### View Expenses Function"
  },
  {
   "metadata": {
    "ExecuteTime": {
     "end_time": "2024-11-20T19:16:20.205302Z",
     "start_time": "2024-11-20T19:16:20.201505Z"
    }
   },
   "cell_type": "code",
   "source": [
    "def view_expenses():\n",
    "\n",
    "    for x in all_expenses:\n",
    "        print(\"-----\")\n",
    "        if x[\"date\"] != '':\n",
    "            print(f\"Expense Date: {x['date']}\")\n",
    "        else:\n",
    "            print(\"Expense date is missing\")\n",
    "        if x[\"category\"] != '':\n",
    "            print(f\"Expense Category: {x['category']}\")\n",
    "        else:\n",
    "            print(\"Expense category is missing\")\n",
    "        if x[\"amount\"] != '':\n",
    "            print(f\"Expense Amount: {x['amount']}\")\n",
    "        else:\n",
    "            print(\"Expense amount is missing\")\n",
    "        if x[\"description\"] != '':\n",
    "            print(f\"Expense Description: {x['description']}\")\n",
    "        else:\n",
    "            print(\"Expense description is missing\")"
   ],
   "outputs": [],
   "execution_count": 4
  },
  {
   "metadata": {},
   "cell_type": "markdown",
   "source": "### Track Budget Function"
  },
  {
   "metadata": {
    "ExecuteTime": {
     "end_time": "2024-11-20T19:16:20.214473Z",
     "start_time": "2024-11-20T19:16:20.208307Z"
    }
   },
   "cell_type": "code",
   "source": [
    "def track_budget():\n",
    "\n",
    "    try:\n",
    "        budget = float(input(\"Please enter a budget amount for the month:\"))\n",
    "        total_expenses = 0\n",
    "\n",
    "        for x in all_expenses:\n",
    "            total_expenses += float(x[\"amount\"])\n",
    "\n",
    "        if budget < 0:\n",
    "            print(\"Budget cannot be negative.\")\n",
    "        elif budget <= total_expenses:\n",
    "            print(f\"You have exceeded your budget by {round(total_expenses - budget, 2)}\")\n",
    "        elif budget == total_expenses:\n",
    "            print(\"You mave met your budget.\")\n",
    "        else:\n",
    "            print(f\"You have ${round(budget - total_expenses,2 )} left for the month\")\n",
    "\n",
    "    except ValueError:\n",
    "        print(\"Please enter a valid number\")"
   ],
   "outputs": [],
   "execution_count": 5
  },
  {
   "metadata": {},
   "cell_type": "markdown",
   "source": "### Save Expenses Function"
  },
  {
   "metadata": {
    "ExecuteTime": {
     "end_time": "2024-11-20T19:16:20.224744Z",
     "start_time": "2024-11-20T19:16:20.221243Z"
    }
   },
   "cell_type": "code",
   "source": [
    "def save_expenses():\n",
    "\n",
    "    field_names = [\"date\", \"category\", \"amount\", \"description\"]\n",
    "\n",
    "    if not os.path.exists(expenses_csv):\n",
    "\n",
    "        with open(expenses_csv, \"x\") as csvfile:\n",
    "            writer = csv.DictWriter(csvfile, fieldnames=field_names)\n",
    "            writer.writeheader()\n",
    "            writer.writerows(all_expenses)\n",
    "\n",
    "    else:\n",
    "\n",
    "        with open(expenses_csv, \"w\") as csvfile:\n",
    "            writer = csv.DictWriter(csvfile, fieldnames=field_names)\n",
    "            writer.writeheader()\n",
    "            writer.writerows(all_expenses)\n"
   ],
   "outputs": [],
   "execution_count": 6
  },
  {
   "metadata": {},
   "cell_type": "markdown",
   "source": "### Load Expenses Function"
  },
  {
   "metadata": {
    "ExecuteTime": {
     "end_time": "2024-11-20T19:16:20.234755Z",
     "start_time": "2024-11-20T19:16:20.230701Z"
    }
   },
   "cell_type": "code",
   "source": [
    "def load_expenses():\n",
    "\n",
    "    if not os.path.exists(expenses_csv):\n",
    "\n",
    "        field_names = [\"date\", \"category\", \"amount\", \"description\"]\n",
    "\n",
    "        with open(expenses_csv, \"x\") as csvfile:\n",
    "            writer = csv.DictWriter(csvfile, fieldnames=field_names)\n",
    "            writer.writeheader()\n",
    "            writer.writerows(all_expenses)\n",
    "\n",
    "    else:\n",
    "\n",
    "        with open(\"expenses.csv\", \"r\") as csvfile:\n",
    "            reader = csv.DictReader(csvfile)\n",
    "            for lines in reader:\n",
    "                all_expenses.append(lines)"
   ],
   "outputs": [],
   "execution_count": 7
  },
  {
   "metadata": {},
   "cell_type": "markdown",
   "source": "### Interactive Menu Function"
  },
  {
   "metadata": {
    "ExecuteTime": {
     "end_time": "2024-11-20T19:16:20.244848Z",
     "start_time": "2024-11-20T19:16:20.240635Z"
    }
   },
   "cell_type": "code",
   "source": [
    "def menu():\n",
    "\n",
    "    load_expenses()\n",
    "\n",
    "    run_program = True\n",
    "\n",
    "    while run_program:\n",
    "\n",
    "        print(\"\\nExpense Tracker Menu:\")\n",
    "        print(\"\\nExpense Tracker Menu:\")\n",
    "        print(\"1. Add Expense\")\n",
    "        print(\"2. View Expenses\")\n",
    "        print(\"3. Track Budget\")\n",
    "        print(\"4. Save Expenses\")\n",
    "        print(\"5. Exit\")\n",
    "\n",
    "        try:\n",
    "            choice = int(input(\"Please enter one of the options below:\"))\n",
    "\n",
    "            if choice == 1:\n",
    "                add_expense()\n",
    "            elif choice == 2:\n",
    "                view_expenses()\n",
    "            elif choice == 3:\n",
    "                track_budget()\n",
    "            elif choice == 4:\n",
    "                save_expenses()\n",
    "            elif choice == 5:\n",
    "                print(\"Exiting program\")\n",
    "                run_program = False\n",
    "            else:\n",
    "                print(\"Invalid choice. Please enter a number between 1 and 5.\")\n",
    "        except ValueError:\n",
    "            print(\"Please enter a valid number.\")\n"
   ],
   "outputs": [],
   "execution_count": 8
  },
  {
   "metadata": {
    "ExecuteTime": {
     "end_time": "2024-11-20T19:17:20.154486Z",
     "start_time": "2024-11-20T19:16:20.252530Z"
    }
   },
   "cell_type": "code",
   "source": "menu()",
   "outputs": [
    {
     "name": "stdout",
     "output_type": "stream",
     "text": [
      "\n",
      "Expense Tracker Menu:\n",
      "\n",
      "Expense Tracker Menu:\n",
      "1. Add Expense\n",
      "2. View Expenses\n",
      "3. Track Budget\n",
      "4. Save Expenses\n",
      "5. Exit\n",
      "\n",
      "Expense Tracker Menu:\n",
      "\n",
      "Expense Tracker Menu:\n",
      "1. Add Expense\n",
      "2. View Expenses\n",
      "3. Track Budget\n",
      "4. Save Expenses\n",
      "5. Exit\n",
      "-----\n",
      "Expense Date: 2024-11-20\n",
      "Expense Category: meal\n",
      "Expense Amount: 12.17\n",
      "Expense Description: lunch at panda\n",
      "\n",
      "Expense Tracker Menu:\n",
      "\n",
      "Expense Tracker Menu:\n",
      "1. Add Expense\n",
      "2. View Expenses\n",
      "3. Track Budget\n",
      "4. Save Expenses\n",
      "5. Exit\n",
      "\n",
      "Expense Tracker Menu:\n",
      "\n",
      "Expense Tracker Menu:\n",
      "1. Add Expense\n",
      "2. View Expenses\n",
      "3. Track Budget\n",
      "4. Save Expenses\n",
      "5. Exit\n",
      "Exiting program\n"
     ]
    }
   ],
   "execution_count": 9
  }
 ],
 "metadata": {
  "kernelspec": {
   "display_name": ".venv",
   "language": "python",
   "name": "python3"
  },
  "language_info": {
   "name": "python",
   "version": "3.12.7"
  }
 },
 "nbformat": 4,
 "nbformat_minor": 2
}
