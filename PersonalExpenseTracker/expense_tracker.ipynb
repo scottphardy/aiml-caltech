{
 "cells": [
  {
   "metadata": {},
   "cell_type": "markdown",
   "source": "# Personal Expense Tracker"
  },
  {
   "metadata": {},
   "cell_type": "markdown",
   "source": [
    "## Problem statement:\n",
    "\n",
    "In today's fast-paced world, individuals need to track and manage their expenses effectively. Your task is to build a personal expense tracker that allows users to log daily expenses, categorize them, and track spending against a monthly budget. The tracker should also be able to save and load expenses from a file for future reference.\n",
    "\n",
    "Objectives:\n",
    "\n",
    "1. Design and implement a personal expense tracker that enables users to manage their expenses\n",
    "\n",
    "2. Allow users to categorize expenses and set monthly budgets\n",
    "\n",
    "3. Implement file-handling functionality to save and load expense data\n",
    "\n",
    "4. Create an interactive, menu-driven interface for ease of use"
   ]
  },
  {
   "metadata": {},
   "cell_type": "markdown",
   "source": "### Import any needed libraries"
  },
  {
   "metadata": {
    "ExecuteTime": {
     "end_time": "2024-11-20T17:27:02.852202Z",
     "start_time": "2024-11-20T17:27:02.848458Z"
    }
   },
   "cell_type": "code",
   "source": "import csv, os\n",
   "outputs": [],
   "execution_count": 43
  },
  {
   "metadata": {},
   "cell_type": "markdown",
   "source": "### Variables"
  },
  {
   "metadata": {
    "ExecuteTime": {
     "end_time": "2024-11-20T17:27:02.861167Z",
     "start_time": "2024-11-20T17:27:02.858211Z"
    }
   },
   "cell_type": "code",
   "source": [
    "all_expenses = []\n",
    "expenses_csv = \"expenses.csv\""
   ],
   "outputs": [],
   "execution_count": 44
  },
  {
   "metadata": {},
   "cell_type": "markdown",
   "source": "### Add Expense Function"
  },
  {
   "metadata": {
    "ExecuteTime": {
     "end_time": "2024-11-20T17:27:02.870764Z",
     "start_time": "2024-11-20T17:27:02.867323Z"
    }
   },
   "cell_type": "code",
   "source": [
    "def add_expense():\n",
    "\n",
    "    expense = {}\n",
    "    exp_date = input(\"What was the date of the expense? Enter date in format YYYY-MM-DD\")\n",
    "    expense[\"date\"] = exp_date\n",
    "    exp_category = input(\"Please provide the category of the expense. i.g.: Fuel, Travel, Meal, etc.:\")\n",
    "    expense[\"category\"] = exp_category\n",
    "    exp_amount = float(input(\"Please provide the amount of the expense:\"))\n",
    "    expense[\"amount\"] = exp_amount\n",
    "    exp_desc = input(\"Please provide a brief description of the expense:\")\n",
    "    expense[\"description\"] = exp_desc\n",
    "    all_expenses.append(expense)"
   ],
   "outputs": [],
   "execution_count": 45
  },
  {
   "metadata": {},
   "cell_type": "markdown",
   "source": "### View Expenses Function"
  },
  {
   "metadata": {
    "ExecuteTime": {
     "end_time": "2024-11-20T17:27:02.880684Z",
     "start_time": "2024-11-20T17:27:02.876769Z"
    }
   },
   "cell_type": "code",
   "source": [
    "def view_expenses():\n",
    "\n",
    "    for x in all_expenses:\n",
    "        print(\"-----\")\n",
    "        if x[\"date\"] != '':\n",
    "            print(f\"Expense Date: {x['date']}\")\n",
    "        else:\n",
    "            print(\"Expense date is missing\")\n",
    "        if x[\"category\"] != '':\n",
    "            print(f\"Expense Category: {x['category']}\")\n",
    "        else:\n",
    "            print(\"Expense category is missing\")\n",
    "        if x[\"amount\"] != '':\n",
    "            print(f\"Expense Amount: {x['amount']}\")\n",
    "        else:\n",
    "            print(\"Expense amount is missing\")\n",
    "        if x[\"description\"] != '':\n",
    "            print(f\"Expense Description: {x['description']}\")\n",
    "        else:\n",
    "            print(\"Expense description is missing\")"
   ],
   "outputs": [],
   "execution_count": 46
  },
  {
   "metadata": {},
   "cell_type": "markdown",
   "source": "### Track Budget Function"
  },
  {
   "metadata": {
    "ExecuteTime": {
     "end_time": "2024-11-20T17:27:02.890649Z",
     "start_time": "2024-11-20T17:27:02.886184Z"
    }
   },
   "cell_type": "code",
   "source": [
    "def track_budget():\n",
    "\n",
    "    try:\n",
    "        budget = float(input(\"Please enter a budget amount for the month:\"))\n",
    "        total_expenses = 0\n",
    "\n",
    "        for x in all_expenses:\n",
    "            total_expenses += float(x[\"amount\"])\n",
    "\n",
    "        if budget < 0:\n",
    "            print(\"Budget cannot be negative.\")\n",
    "        elif budget <= total_expenses:\n",
    "            print(f\"You have exceeded your budget by {round(total_expenses - budget, 2)}\")\n",
    "        elif budget == total_expenses:\n",
    "            print(\"You mave met your budget.\")\n",
    "        else:\n",
    "            print(f\"You have ${round(budget - total_expenses,2 )} left for the month\")\n",
    "\n",
    "    except ValueError:\n",
    "        print(\"Please enter a valid number\")"
   ],
   "outputs": [],
   "execution_count": 47
  },
  {
   "metadata": {},
   "cell_type": "markdown",
   "source": "### Save Expenses Function"
  },
  {
   "metadata": {
    "ExecuteTime": {
     "end_time": "2024-11-20T17:37:29.271062Z",
     "start_time": "2024-11-20T17:37:29.266556Z"
    }
   },
   "cell_type": "code",
   "source": [
    "def save_expenses():\n",
    "\n",
    "    field_names = [\"date\", \"category\", \"amount\", \"description\"]\n",
    "\n",
    "    if not os.path.exists(expenses_csv):\n",
    "\n",
    "        with open(expenses_csv, \"x\") as csvfile:\n",
    "            writer = csv.DictWriter(csvfile, fieldnames=field_names)\n",
    "            writer.writeheader()\n",
    "            writer.writerows(all_expenses)\n",
    "\n",
    "    else:\n",
    "\n",
    "        with open(expenses_csv, \"w\") as csvfile:\n",
    "            writer = csv.DictWriter(csvfile, fieldnames=field_names)\n",
    "            writer.writeheader()\n",
    "            writer.writerows(all_expenses)\n"
   ],
   "outputs": [],
   "execution_count": 63
  },
  {
   "metadata": {
    "ExecuteTime": {
     "end_time": "2024-11-20T17:38:13.486031Z",
     "start_time": "2024-11-20T17:38:13.482031Z"
    }
   },
   "cell_type": "code",
   "source": "print(all_expenses)",
   "outputs": [
    {
     "name": "stdout",
     "output_type": "stream",
     "text": [
      "[{'date': '2024-11-20', 'category': 'meal', 'amount': 45.16, 'description': 'breakfast at einstein bros with family'}]\n"
     ]
    }
   ],
   "execution_count": 66
  },
  {
   "metadata": {
    "ExecuteTime": {
     "end_time": "2024-11-20T17:38:17.464541Z",
     "start_time": "2024-11-20T17:38:17.460208Z"
    }
   },
   "cell_type": "code",
   "source": "save_expenses()",
   "outputs": [],
   "execution_count": 67
  },
  {
   "metadata": {},
   "cell_type": "markdown",
   "source": "### Load Expenses Function"
  },
  {
   "metadata": {
    "ExecuteTime": {
     "end_time": "2024-11-20T17:37:41.937157Z",
     "start_time": "2024-11-20T17:37:41.933816Z"
    }
   },
   "cell_type": "code",
   "source": [
    "def load_expenses():\n",
    "\n",
    "    with open(\"expenses.csv\", \"r\") as csvfile:\n",
    "        reader = csv.DictReader(csvfile)\n",
    "        for lines in reader:\n",
    "            all_expenses.append(lines)"
   ],
   "outputs": [],
   "execution_count": 65
  },
  {
   "metadata": {},
   "cell_type": "markdown",
   "source": "### Interactive Menu Function"
  },
  {
   "metadata": {
    "ExecuteTime": {
     "end_time": "2024-11-20T17:27:02.917731Z",
     "start_time": "2024-11-20T17:27:02.913400Z"
    }
   },
   "cell_type": "code",
   "source": [
    "def menu():\n",
    "\n",
    "    load_expenses()\n",
    "\n",
    "    run_program = True\n",
    "\n",
    "    while run_program:\n",
    "\n",
    "        print(\"\\nExpense Tracker Menu:\")\n",
    "        print(\"\\nExpense Tracker Menu:\")\n",
    "        print(\"1. Add Expense\")\n",
    "        print(\"2. View Expenses\")\n",
    "        print(\"3. Track Budget\")\n",
    "        print(\"4. Save Expenses\")\n",
    "        print(\"5. Exit\")\n",
    "\n",
    "        try:\n",
    "            choice = int(input(\"Please enter one of the options below:\"))\n",
    "\n",
    "            if choice == 1:\n",
    "                add_expense()\n",
    "            elif choice == 2:\n",
    "                view_expenses()\n",
    "            elif choice == 3:\n",
    "                track_budget()\n",
    "            elif choice == 4:\n",
    "                save_expenses()\n",
    "            elif choice == 5:\n",
    "                print(\"Exiting program\")\n",
    "                run_program = False\n",
    "            else:\n",
    "                print(\"Invalid choice. Please enter a number between 1 and 5.\")\n",
    "        except ValueError:\n",
    "            print(\"Please enter a valid number.\")\n"
   ],
   "outputs": [],
   "execution_count": 50
  },
  {
   "metadata": {
    "ExecuteTime": {
     "end_time": "2024-11-20T17:39:35.993195Z",
     "start_time": "2024-11-20T17:39:05.224570Z"
    }
   },
   "cell_type": "code",
   "source": "menu()",
   "outputs": [
    {
     "name": "stdout",
     "output_type": "stream",
     "text": [
      "\n",
      "Expense Tracker Menu:\n",
      "\n",
      "Expense Tracker Menu:\n",
      "1. Add Expense\n",
      "2. View Expenses\n",
      "3. Track Budget\n",
      "4. Save Expenses\n",
      "5. Exit\n",
      "-----\n",
      "Expense Date: 2024-11-20\n",
      "Expense Category: meal\n",
      "Expense Amount: 45.16\n",
      "Expense Description: breakfast at einstein bros with family\n",
      "-----\n",
      "Expense Date: 2024-11-20\n",
      "Expense Category: meal\n",
      "Expense Amount: 45.16\n",
      "Expense Description: breakfast at einstein bros with family\n",
      "\n",
      "Expense Tracker Menu:\n",
      "\n",
      "Expense Tracker Menu:\n",
      "1. Add Expense\n",
      "2. View Expenses\n",
      "3. Track Budget\n",
      "4. Save Expenses\n",
      "5. Exit\n",
      "You have $209.68 left for the month\n",
      "\n",
      "Expense Tracker Menu:\n",
      "\n",
      "Expense Tracker Menu:\n",
      "1. Add Expense\n",
      "2. View Expenses\n",
      "3. Track Budget\n",
      "4. Save Expenses\n",
      "5. Exit\n",
      "Exiting program\n"
     ]
    }
   ],
   "execution_count": 68
  }
 ],
 "metadata": {
  "kernelspec": {
   "display_name": ".venv",
   "language": "python",
   "name": "python3"
  },
  "language_info": {
   "name": "python",
   "version": "3.12.7"
  }
 },
 "nbformat": 4,
 "nbformat_minor": 2
}
