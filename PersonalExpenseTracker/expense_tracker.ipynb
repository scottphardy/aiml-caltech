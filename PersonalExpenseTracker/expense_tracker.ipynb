{
 "cells": [
  {
   "metadata": {},
   "cell_type": "markdown",
   "source": "# Personal Expense Tracker"
  },
  {
   "metadata": {},
   "cell_type": "markdown",
   "source": [
    "## Problem statement:\n",
    "\n",
    "In today's fast-paced world, individuals need to track and manage their expenses effectively. Your task is to build a personal expense tracker that allows users to log daily expenses, categorize them, and track spending against a monthly budget. The tracker should also be able to save and load expenses from a file for future reference.\n",
    "\n",
    "Objectives:\n",
    "\n",
    "1. Design and implement a personal expense tracker that enables users to manage their expenses\n",
    "\n",
    "2. Allow users to categorize expenses and set monthly budgets\n",
    "\n",
    "3. Implement file-handling functionality to save and load expense data\n",
    "\n",
    "4. Create an interactive, menu-driven interface for ease of use"
   ]
  },
  {
   "metadata": {},
   "cell_type": "markdown",
   "source": "## Exercise Instructions"
  },
  {
   "metadata": {},
   "cell_type": "markdown",
   "source": [
    "Steps to perform:\n",
    "1. Add an expense:\n",
    "- Create a function to prompt the user for expense details. Ensure you ask for:\n",
    "  - The date of the expense in the format YYYY-MM-DD\n",
    "  - The category of the expense, such as Food or Travel\n",
    "  - The amount spent\n",
    "  - A brief description of the expense\n",
    "- Store the expense in a list as a dictionary, where each dictionary includes the date, category, amount, and description as key-value pairs\n",
    "Example:\n",
    "{'date': '2024-09-18', 'category': 'Food', 'amount': 15.50, 'description': 'Lunch with friends'}\n",
    "2. View expenses:\n",
    "- Write a function to retrieve and display all stored expenses\n",
    "  - Ensure the function loops through the list of expenses and displays the date, category, amount, and description for each entry\n",
    "• Validate the data before displaying it\n",
    "  - If any required details (date, category, amount, or description) are missing, skip the entry or notify the user that it’s incomplete\n",
    "3. Set and track the budget:\n",
    "- Create a function that allows the user to input a monthly budget. Prompt the user to:\n",
    "    - Enter the total amount they want to budget for the month\n",
    "- Create another function that calculates the total expenses recorded so far\n",
    "    - Compare the total with the user’s monthly budget\n",
    "    - If the total expenses exceed the budget, display a warning (Example: You have exceeded your budget!)\n",
    "    - If the expenses are within the budget, display the remaining balance (Example: You have 150 left for the month)\n",
    "4. Save and load expenses:\n",
    "= Implement a function to save all expenses to a CSV file, with each row containing the date, category, amount, and description of each expense\n",
    "- Create another function to load expenses from the CSV file. When the program starts, it should:\n",
    "    - Read the saved data from the file\n",
    "    - Load it back into the list of expenses so the user can see their previous expenses and continue from where they left off\n",
    "5. Create an interactive menu:\n",
    "- Build a function to display a menu with the following options:\n",
    "    - Add expense\n",
    "    - View expenses\n",
    "    - Track budget\n",
    "    - Save expenses\n",
    "    - Exit\n",
    "- Allow the user to enter a number to choose an option\n",
    "- Implement the following conditions:\n",
    "    - If the user selects option 1, call the function to add an expense\n",
    "    - If the user selects option 2, call the function to view expenses\n",
    "    - If the user selects option 3, call the function to track the budget\n",
    "    - If the user selects option 4, call the function to save expenses to the file\n",
    "    - If the user selects option 5, save the expenses and exit the program"
   ]
  },
  {
   "metadata": {},
   "cell_type": "markdown",
   "source": ""
  },
  {
   "metadata": {},
   "cell_type": "markdown",
   "source": "### Import any needed libraries"
  },
  {
   "metadata": {
    "ExecuteTime": {
     "end_time": "2024-11-20T14:31:17.728996Z",
     "start_time": "2024-11-20T14:31:17.726272Z"
    }
   },
   "cell_type": "code",
   "source": "import csv\n",
   "outputs": [],
   "execution_count": 24
  },
  {
   "metadata": {},
   "cell_type": "markdown",
   "source": "### Variables"
  },
  {
   "metadata": {
    "ExecuteTime": {
     "end_time": "2024-11-20T14:31:17.746149Z",
     "start_time": "2024-11-20T14:31:17.743213Z"
    }
   },
   "cell_type": "code",
   "source": "all_expenses = []",
   "outputs": [],
   "execution_count": 25
  },
  {
   "metadata": {},
   "cell_type": "markdown",
   "source": "### Add Expense Function"
  },
  {
   "metadata": {
    "ExecuteTime": {
     "end_time": "2024-11-20T14:31:17.755128Z",
     "start_time": "2024-11-20T14:31:17.749168Z"
    }
   },
   "cell_type": "code",
   "source": [
    "def add_expense():\n",
    "\n",
    "    expense = {}\n",
    "    exp_date = input(\"What was the date of the expense? Enter date in format YYYY-MM-DD\")\n",
    "    expense[\"date\"] = exp_date\n",
    "    exp_category = input(\"Please provide the category of the expense. i.g.: Fuel, Travel, Meal, etc.:\")\n",
    "    expense[\"category\"] = exp_category\n",
    "    exp_amount = float(input(\"Please provide the amount of the expense:\"))\n",
    "    expense[\"amount\"] = exp_amount\n",
    "    exp_desc = input(\"Please provide a brief description of the expense:\")\n",
    "    expense[\"description\"] = exp_desc\n",
    "    all_expenses.append(expense)"
   ],
   "outputs": [],
   "execution_count": 26
  },
  {
   "metadata": {
    "ExecuteTime": {
     "end_time": "2024-11-20T14:31:50.588262Z",
     "start_time": "2024-11-20T14:31:17.760770Z"
    }
   },
   "cell_type": "code",
   "source": "add_expense()",
   "outputs": [],
   "execution_count": 27
  },
  {
   "metadata": {},
   "cell_type": "markdown",
   "source": "### View Expenses Function"
  },
  {
   "metadata": {
    "ExecuteTime": {
     "end_time": "2024-11-20T14:31:50.606581Z",
     "start_time": "2024-11-20T14:31:50.603283Z"
    }
   },
   "cell_type": "code",
   "source": [
    "# for debugging purposes - print all expenses\n",
    "# print(all_expenses)"
   ],
   "outputs": [],
   "execution_count": 28
  },
  {
   "metadata": {
    "ExecuteTime": {
     "end_time": "2024-11-20T14:31:50.630528Z",
     "start_time": "2024-11-20T14:31:50.626435Z"
    }
   },
   "cell_type": "code",
   "source": [
    "def view_expenses():\n",
    "\n",
    "    for x in all_expenses:\n",
    "        print(\"-----\")\n",
    "        if x[\"date\"] != '':\n",
    "            print(f\"Expense Date: {x['date']}\")\n",
    "        else:\n",
    "            print(\"Expense date is missing\")\n",
    "        if x[\"category\"] != '':\n",
    "            print(f\"Expense Category: {x['category']}\")\n",
    "        else:\n",
    "            print(\"Expense category is missing\")\n",
    "        if x[\"amount\"] != '':\n",
    "            print(f\"Expense Amount: {x['amount']}\")\n",
    "        else:\n",
    "            print(\"Expense amount is missing\")\n",
    "        if x[\"description\"] != '':\n",
    "            print(f\"Expense Description: {x['description']}\")\n",
    "        else:\n",
    "            print(\"Expense description is missing\")"
   ],
   "outputs": [],
   "execution_count": 29
  },
  {
   "metadata": {
    "ExecuteTime": {
     "end_time": "2024-11-20T14:31:50.639416Z",
     "start_time": "2024-11-20T14:31:50.635544Z"
    }
   },
   "cell_type": "code",
   "source": "view_expenses()",
   "outputs": [
    {
     "name": "stdout",
     "output_type": "stream",
     "text": [
      "-----\n",
      "Expense Date: 2024-11-20\n",
      "Expense Category: meal\n",
      "Expense Amount: 10.56\n",
      "Expense Description: breakfast at mcdonald's\n"
     ]
    }
   ],
   "execution_count": 30
  },
  {
   "metadata": {},
   "cell_type": "markdown",
   "source": "### Track Budget Function"
  },
  {
   "metadata": {
    "ExecuteTime": {
     "end_time": "2024-11-20T14:31:50.657665Z",
     "start_time": "2024-11-20T14:31:50.654217Z"
    }
   },
   "cell_type": "code",
   "source": [
    "def track_budget():\n",
    "\n",
    "    budget = float(input(\"Please enter a budget amount for the month:\"))\n",
    "    total_expenses = 0\n",
    "\n",
    "    for x in all_expenses:\n",
    "        total_expenses += x[\"amount\"]\n",
    "\n",
    "    if budget <= total_expenses:\n",
    "        print(\"You have exceeded your budget\")\n",
    "    else:\n",
    "        print(f\"You have ${budget - total_expenses} left for the month\")"
   ],
   "outputs": [],
   "execution_count": 31
  },
  {
   "metadata": {
    "ExecuteTime": {
     "end_time": "2024-11-20T14:32:21.170308Z",
     "start_time": "2024-11-20T14:32:16.527661Z"
    }
   },
   "cell_type": "code",
   "source": "track_budget()",
   "outputs": [
    {
     "name": "stdout",
     "output_type": "stream",
     "text": [
      "You have $389.44 left for the month\n"
     ]
    }
   ],
   "execution_count": 35
  },
  {
   "metadata": {},
   "cell_type": "markdown",
   "source": "### Save Expenses Function"
  },
  {
   "metadata": {
    "ExecuteTime": {
     "end_time": "2024-11-20T14:38:11.694676Z",
     "start_time": "2024-11-20T14:38:11.691077Z"
    }
   },
   "cell_type": "code",
   "source": [
    "def save_expenses():\n",
    "\n",
    "    field_names = [\"date\", \"category\", \"amount\", \"description\"]\n",
    "    with open(\"expenses.csv\", \"a\") as csvfile:\n",
    "        writer = csv.DictWriter(csvfile, fieldnames=field_names)\n",
    "        writer.writeheader()\n",
    "        writer.writerows(all_expenses)"
   ],
   "outputs": [],
   "execution_count": 38
  },
  {
   "metadata": {
    "ExecuteTime": {
     "end_time": "2024-11-20T14:38:14.174190Z",
     "start_time": "2024-11-20T14:38:14.170024Z"
    }
   },
   "cell_type": "code",
   "source": "save_expenses()",
   "outputs": [],
   "execution_count": 39
  },
  {
   "metadata": {},
   "cell_type": "markdown",
   "source": "### Load Expenses Function"
  },
  {
   "metadata": {
    "ExecuteTime": {
     "end_time": "2024-11-20T14:41:56.380898Z",
     "start_time": "2024-11-20T14:41:56.377025Z"
    }
   },
   "cell_type": "code",
   "source": [
    "def load_expenses():\n",
    "\n",
    "    with open(\"expenses.csv\", \"r\") as csvfile:\n",
    "        reader = csv.DictReader(csvfile)\n",
    "        for lines in reader:\n",
    "            print(lines)"
   ],
   "outputs": [],
   "execution_count": 44
  },
  {
   "metadata": {
    "ExecuteTime": {
     "end_time": "2024-11-20T14:41:58.283452Z",
     "start_time": "2024-11-20T14:41:58.279559Z"
    }
   },
   "cell_type": "code",
   "source": "load_expenses()",
   "outputs": [
    {
     "name": "stdout",
     "output_type": "stream",
     "text": [
      "{'date': '2024-11-20', 'category': 'meal', 'amount': '10.56', 'description': \"breakfast at mcdonald's\"}\n"
     ]
    }
   ],
   "execution_count": 45
  }
 ],
 "metadata": {
  "kernelspec": {
   "display_name": ".venv",
   "language": "python",
   "name": "python3"
  },
  "language_info": {
   "name": "python",
   "version": "3.12.7"
  }
 },
 "nbformat": 4,
 "nbformat_minor": 2
}
